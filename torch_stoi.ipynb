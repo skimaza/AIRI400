{
  "nbformat": 4,
  "nbformat_minor": 0,
  "metadata": {
    "colab": {
      "name": "torch_stoi.ipynb",
      "provenance": [],
      "authorship_tag": "ABX9TyNqnPrHfqSgM00Aixfire4x",
      "include_colab_link": true
    },
    "kernelspec": {
      "name": "python3",
      "display_name": "Python 3"
    }
  },
  "cells": [
    {
      "cell_type": "markdown",
      "metadata": {
        "id": "view-in-github",
        "colab_type": "text"
      },
      "source": [
        "<a href=\"https://colab.research.google.com/github/skimaza/AIRI400/blob/master/torch_stoi.ipynb\" target=\"_parent\"><img src=\"https://colab.research.google.com/assets/colab-badge.svg\" alt=\"Open In Colab\"/></a>"
      ]
    },
    {
      "cell_type": "code",
      "metadata": {
        "colab": {
          "base_uri": "https://localhost:8080/"
        },
        "id": "XKggNfwfCXiV",
        "outputId": "7a82dd4e-343b-4951-9593-0031e79f1fa8"
      },
      "source": [
        "!git clone https://github.com/mpariente/pystoi.git"
      ],
      "execution_count": null,
      "outputs": [
        {
          "output_type": "stream",
          "text": [
            "Cloning into 'pystoi'...\n",
            "remote: Enumerating objects: 42, done.\u001b[K\n",
            "remote: Counting objects: 100% (42/42), done.\u001b[K\n",
            "remote: Compressing objects: 100% (29/29), done.\u001b[K\n",
            "remote: Total 274 (delta 15), reused 33 (delta 9), pack-reused 232\u001b[K\n",
            "Receiving objects: 100% (274/274), 804.12 KiB | 13.86 MiB/s, done.\n",
            "Resolving deltas: 100% (129/129), done.\n"
          ],
          "name": "stdout"
        }
      ]
    },
    {
      "cell_type": "code",
      "metadata": {
        "colab": {
          "base_uri": "https://localhost:8080/"
        },
        "id": "x0kOiQ0KFK5L",
        "outputId": "80ba6575-cc8f-4872-fb10-79f8e5ee70fa"
      },
      "source": [
        "!pip install pystoi"
      ],
      "execution_count": null,
      "outputs": [
        {
          "output_type": "stream",
          "text": [
            "Requirement already satisfied: pystoi in /usr/local/lib/python3.6/dist-packages (0.3.3)\n",
            "Requirement already satisfied: scipy in /usr/local/lib/python3.6/dist-packages (from pystoi) (1.4.1)\n",
            "Requirement already satisfied: numpy in /usr/local/lib/python3.6/dist-packages (from pystoi) (1.19.4)\n"
          ],
          "name": "stdout"
        }
      ]
    },
    {
      "cell_type": "code",
      "metadata": {
        "colab": {
          "base_uri": "https://localhost:8080/"
        },
        "id": "JdiF2MjrFXiC",
        "outputId": "0042ad30-190f-46e4-da66-1d219bd2fad9"
      },
      "source": [
        "!ls pystoi/tests"
      ],
      "execution_count": null,
      "outputs": [
        {
          "output_type": "stream",
          "text": [
            "matlab\ttest_matlab_python.py  test_stoi_octave.py  test_utils_octave.py\n",
            "octave\ttest_python_octave.py  test_stoi.py\t    test_utils.py\n"
          ],
          "name": "stdout"
        }
      ]
    },
    {
      "cell_type": "code",
      "metadata": {
        "id": "tZPzsNikDmn6"
      },
      "source": [
        "import soundfile as sf\n",
        "from pystoi import stoi\n",
        "\n",
        "clean, fs = sf.read('path/to/clean/audio')\n",
        "denoised, fs = sf.read('path/to/denoised/audio')\n",
        "\n",
        "# Clean and den should have the same length, and be 1D\n",
        "d = stoi(clean, denoised, fs, extended=False)"
      ],
      "execution_count": null,
      "outputs": []
    }
  ]
}